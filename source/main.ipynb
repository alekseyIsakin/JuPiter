{
 "cells": [
  {
   "cell_type": "code",
   "execution_count": 2,
   "id": "11557872",
   "metadata": {
    "dotnet_interactive": {
     "language": "csharp"
    }
   },
   "outputs": [],
   "source": [
    "from pprint import pprint as pp\n",
    "import numpy as np\n",
    "import cv2"
   ]
  },
  {
   "cell_type": "code",
   "execution_count": 91,
   "id": "a7c5968b",
   "metadata": {},
   "outputs": [],
   "source": [
    "class Line():\n",
    "  def __init__(self, index, top, down) -> None:\n",
    "    self.index = index\n",
    "    self.down = down\n",
    "    self.top = top\n",
    "    \n",
    "  def __getitem__(self, key):\n",
    "    if key == 0: return self.index\n",
    "    if key == 1: return self.top\n",
    "    if key == 2: return self.down\n",
    "    \n",
    "  def __repr__(self):\n",
    "    return (\"{ index: \" + str(self.index) + \", \" +\\\n",
    "            \"top: \" + str(self.top) + \", \"+ \\\n",
    "            \"down: \" + str(self.down) + \"}\")"
   ]
  },
  {
   "cell_type": "code",
   "execution_count": 92,
   "id": "74977790",
   "metadata": {
    "dotnet_interactive": {
     "language": "csharp"
    }
   },
   "outputs": [
    {
     "name": "stdout",
     "output_type": "stream",
     "text": [
      "{ index: 183, top: 161, down: 160}\n",
      "[ 97 112  98]\n"
     ]
    },
    {
     "data": {
      "text/plain": [
       "True"
      ]
     },
     "execution_count": 92,
     "metadata": {},
     "output_type": "execute_result"
    }
   ],
   "source": [
    "img = cv2.imread(r\"../images/input.jpg\")\n",
    "\n",
    "# Convert BGR to HSV\n",
    "hsv = cv2.cvtColor(img, cv2.COLOR_BGR2HSV)\n",
    "\n",
    "# define range of black color in HSV\n",
    "lower_val = np.array([0,0,0])\n",
    "upper_val = np.array([50,100,100])\n",
    "\n",
    "# Threshold the HSV image to get only black colors\n",
    "mask = cv2.inRange(hsv, lower_val, upper_val)\n",
    "\n",
    "# invert mask to get black symbols on white background\n",
    "mask_inv = cv2.bitwise_not(mask)\n",
    "\n",
    "blank = np.ones(img.shape, np.uint8)*255\n",
    "blank2 = np.ones(img.shape, np.uint8)*255\n",
    "blank3 = np.ones(img.shape, np.uint8)*255\n",
    "\n",
    "contours, hier = cv2.findContours(mask_inv,cv2.RETR_LIST,cv2.CHAIN_APPROX_NONE)\n",
    "\n",
    "for cnt in contours:\n",
    "    if cv2.contourArea(cnt) > 800:\n",
    "        approx = cv2.approxPolyDP(cnt,\n",
    "                                    0.00005 * cv2.arcLength(cnt, True), True)\n",
    "        if(len(approx) >= 5):\n",
    "            cv2.drawContours(blank, [approx], 0, (0, 0, 0), 1)\n",
    "\n",
    "graph = []\n",
    "\n",
    "for j in range(mask_inv.shape[1]):\n",
    "    higher = 0\n",
    "    lower = 0\n",
    "\n",
    "    cntBlank = 0\n",
    "    lines = []\n",
    "\n",
    "    for i in range(250):\n",
    "        if mask_inv[i,j] == 255: \n",
    "            cntBlank += 1\n",
    "            if lower == 0:\n",
    "                continue\n",
    "        \n",
    "        if lower == 0: lower = i\n",
    "        if mask_inv[i,j] != 255: \n",
    "            higher = i\n",
    "            cntBlank = 0\n",
    "        if cntBlank > 10:\n",
    "            lines.append( Line(j, higher, lower) )\n",
    "            lower = 0\n",
    "            higher = 0\n",
    "    if len(lines) > 0:\n",
    "        graph.append( lines[-1])\n",
    "    lines.clear()\n",
    "    # cntLine = 0\n",
    "    # if (higher + lower > 0):\n",
    "    #     graph.append( (j, higher, lower) )\n",
    "\n",
    "prev = graph[0]\n",
    "\n",
    "prev[0]\n",
    "print(graph[50])\n",
    "\n",
    "print(img[0][0])\n",
    "\n",
    "for p in graph[1:]:\n",
    "    clr = 125*(p[0]%2)\n",
    "\n",
    "    if ((p[1] <= prev[1] and p[1] >= prev[2]) or\\\n",
    "        (p[2] <= prev[1] and p[2] >= prev[2])):\n",
    "    \n",
    "            cv2.line(blank2, (p[0],p[2]), (p[0], p[1]), (clr,clr,clr))\n",
    "            prev = p\n",
    "            lastAcc = p[0]\n",
    "    # else:\n",
    "    #         print(\"\")\n",
    "\n",
    "    cv2.line(img, (p.index ,p[2]), (p[0], p[1]), (clr,clr,clr))\n",
    "    cv2.line(blank3, (p.index,p[2]), (p[0], p[1]), (clr,clr,clr))\n",
    "\n",
    "cv2.imwrite(r'../images/mask_inv.png',mask_inv)\n",
    "cv2.imwrite(r'../images/output2.png',img)\n",
    "cv2.imwrite(r'../images/output.png',blank3)\n",
    "\n"
   ]
  }
 ],
 "metadata": {
  "interpreter": {
   "hash": "f6a0623a352d8e52ae78e9747cce80c8e8e4d9d0c81f858eec4eb23da77ce841"
  },
  "kernelspec": {
   "display_name": ".NET (C#)",
   "language": "python",
   "name": "python3"
  },
  "language_info": {
   "codemirror_mode": {
    "name": "ipython",
    "version": 3
   },
   "file_extension": ".py",
   "mimetype": "text/x-python",
   "name": "python",
   "nbconvert_exporter": "python",
   "pygments_lexer": "ipython3",
   "version": "3.9.7"
  }
 },
 "nbformat": 4,
 "nbformat_minor": 5
}
